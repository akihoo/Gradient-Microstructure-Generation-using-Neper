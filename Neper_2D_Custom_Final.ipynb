{
 "cells": [
  {
   "cell_type": "code",
   "execution_count": 11,
   "id": "985fe5cb-7687-41ce-a0ca-c1d370d35f64",
   "metadata": {},
   "outputs": [
    {
     "name": "stdin",
     "output_type": "stream",
     "text": [
      "\n",
      "Enter the number of grains required: 1000\n"
     ]
    },
    {
     "name": "stdout",
     "output_type": "stream",
     "text": [
      "\n",
      "The Number is Divisible by 10\n"
     ]
    }
   ],
   "source": [
    "import random\n",
    "import numpy as np\n",
    "\n",
    "a = int(input(\"\\nEnter the number of grains required:\"))\n",
    "\n",
    "b = 0\n",
    "\n",
    "if a == 0 or a < 50:\n",
    "    print (\"\\nInvalid Entry\")\n",
    "else:\n",
    "    if a % 10 == 0:\n",
    "        print(\"\\nThe Number is Divisible by 10\")\n",
    "    else:\n",
    "        b = (a % 10)\n",
    "        a = a + (10 - b)\n",
    "        print(\"\\nThe modified number for the Number of grains is:\", a)\n",
    "\n",
    "while a == 0 or a < 50:\n",
    "    a = int(input(\"\\nEnter the number of grains required:\"))\n",
    "    b = 0\n",
    "\n",
    "    if a == 0 or a < 50:\n",
    "        print (\"\\nInvalid Entry\")\n",
    "    else:\n",
    "        if a % 10 == 0:\n",
    "            print(\"\\nThe Number is Divisible by 10\")\n",
    "        else:\n",
    "            b = (a % 10)\n",
    "            a = a + (10 - b)\n",
    "            print(\"\\nThe modified number for the Number of grains is:\", a)"
   ]
  },
  {
   "cell_type": "code",
   "execution_count": 12,
   "id": "3d667a54-f3b9-4597-8b8f-005ba7c2a6cb",
   "metadata": {},
   "outputs": [
    {
     "name": "stdin",
     "output_type": "stream",
     "text": [
      "\n",
      "Enter the number of divisions in grains required: 5\n",
      "\n",
      "Enter the ratio in grains, one by one: 1\n",
      "\n",
      "Enter the ratio in grains, one by one: 2\n",
      "\n",
      "Enter the ratio in grains, one by one: 5\n",
      "\n",
      "Enter the ratio in grains, one by one: 2\n",
      "\n",
      "Enter the ratio in grains, one by one: 1\n"
     ]
    }
   ],
   "source": [
    "c = int(input(\"\\nEnter the number of divisions in grains required:\"))\n",
    "\n",
    "while c == 0 or c < 0:\n",
    "    print(\"\\nPlease do the input properly\")\n",
    "    c = int(input(\"\\nEnter the number of grains required:\"))\n",
    "\n",
    "ratios = np.array([i for i in range(c)])\n",
    "\n",
    "ratios = ratios.astype(float)\n",
    "\n",
    "for i in range (c):\n",
    "    ratios[i] = float(input(\"\\nEnter the ratio in grains, one by one:\"))\n",
    "    while ratios[i] == 0 or ratios[i] < 0:\n",
    "        print(\"Please do the input properly\")\n",
    "        ratios[i] = float(input(\"\\nEnter the ratio in grains, one by one:\"))\n",
    "    \n",
    "#print(ratios)"
   ]
  },
  {
   "cell_type": "code",
   "execution_count": 13,
   "id": "007efdea-d226-4af0-bcea-3dd78759e57c",
   "metadata": {},
   "outputs": [
    {
     "name": "stdin",
     "output_type": "stream",
     "text": [
      "\n",
      "Enter the ratio in area, one by one: 0.3\n",
      "\n",
      "Enter the ratio in area, one by one: 0.15\n",
      "\n",
      "Enter the ratio in area, one by one: 0.1\n",
      "\n",
      "Enter the ratio in area, one by one: 0.15\n",
      "\n",
      "Enter the ratio in area, one by one: 0.3\n"
     ]
    },
    {
     "name": "stdout",
     "output_type": "stream",
     "text": [
      "\n",
      "Good Input!\n"
     ]
    }
   ],
   "source": [
    "area_ratios = np.array([i for i in range(c)])\n",
    "\n",
    "area_ratios = area_ratios.astype(float)\n",
    "\n",
    "total_area = 0\n",
    "\n",
    "for i in range (c):\n",
    "    area_ratios[i] = float(input(\"\\nEnter the ratio in area, one by one:\"))\n",
    "    total_area = total_area + area_ratios[i]\n",
    "    while not(area_ratios[i] > 0 and area_ratios[i] < 1):\n",
    "        print(\"\\nPlease do the input properly\")\n",
    "        area_ratios[i] = float(input(\"\\nEnter the ratio in area, one by one:\"))\n",
    "\n",
    "total_area = int(total_area)        \n",
    "\n",
    "while not(total_area == 1):\n",
    "    print(\"\\nPlease do the input properly so that the total sums-up to 1\")\n",
    "    for i in range (c):\n",
    "        area_ratios[i] = float(input(\"\\nEnter the ratio in area, one by one:\"))\n",
    "        total_area = total_area + area_ratios[i]\n",
    "        while not(area_ratios[i] > 0 and area_ratios[i] < 1):\n",
    "            print(\"\\nPlease do the input properly\")\n",
    "            area_ratios[i] = float(input(\"\\nEnter the ratio in area, one by one:\"))\n",
    "    total_area = int(total_area)\n",
    "    \n",
    "if not(total_area == 1):\n",
    "    print(\"\\nPlease do rerun this code snippet\")\n",
    "else:\n",
    "    print(\"\\nGood Input!\")"
   ]
  },
  {
   "cell_type": "code",
   "execution_count": 14,
   "id": "16e72e3a-d2e6-4bf2-b894-4adaf5cd4137",
   "metadata": {},
   "outputs": [
    {
     "name": "stdout",
     "output_type": "stream",
     "text": [
      "\n",
      "The total number of grains considered is: 996\n"
     ]
    }
   ],
   "source": [
    "total_grains = 0\n",
    "\n",
    "set_of_grains = np.array([i for i in range(c)])\n",
    "\n",
    "grain_ratio_total = 0\n",
    "\n",
    "for i in range (c):\n",
    "    set_of_grains[i] = 0\n",
    "    grain_ratio_total = grain_ratio_total + ratios[i] \n",
    "\n",
    "#print(set_of_grains, grain_ratio_total)\n",
    "\n",
    "for i in range (c):\n",
    "    set_of_grains[i] = int(a*(ratios[i]/grain_ratio_total))\n",
    "    total_grains = total_grains + set_of_grains[i]\n",
    "    \n",
    "print(\"\\nThe total number of grains considered is:\",total_grains)\n"
   ]
  },
  {
   "cell_type": "code",
   "execution_count": 15,
   "id": "0e09029e-2b80-430f-b287-051d3c602311",
   "metadata": {},
   "outputs": [
    {
     "name": "stdout",
     "output_type": "stream",
     "text": [
      "[0.3  0.45 0.55 0.7  1.  ]\n"
     ]
    }
   ],
   "source": [
    "fh = open (r\"C:\\Users\\anand\\OneDrive\\Desktop\\Position.txt\",\"w\")\n",
    "fh1 = open (r\"C:\\Users\\anand\\OneDrive\\Desktop\\Weight.txt\",\"w\")\n",
    "\n",
    "x_coo_set = np.random.uniform(0, 1, total_grains)\n",
    "\n",
    "initial = 0\n",
    "\n",
    "initial_area = 0\n",
    "\n",
    "for i in range(c):\n",
    "    initial_area = initial_area + area_ratios[i]\n",
    "    area_ratios[i] = initial_area \n",
    "\n",
    "for i in range (c):\n",
    "        if i == 0:\n",
    "            initial = initial + set_of_grains[i]\n",
    "            x = np.random.uniform(0, area_ratios[i], set_of_grains[i])\n",
    "            for j in range (set_of_grains[i]):\n",
    "                x_coo_set[j] = x[j]\n",
    "        elif i > 0 and i < (c-1):\n",
    "            x1 = np.random.uniform(area_ratios[i-1], area_ratios[i], set_of_grains[i])\n",
    "            for j in range (set_of_grains[i]):\n",
    "                x_coo_set[j+initial] = x1[j]\n",
    "            initial = initial + set_of_grains[i]\n",
    "        elif i == (c-1):\n",
    "            x2 = np.random.uniform(area_ratios[i-1], 1, set_of_grains[i])\n",
    "            for j in range (set_of_grains[i]):\n",
    "                x_coo_set[j+initial] = x2[j]\n",
    "        else:\n",
    "            print(\"Check again\")\n",
    "            \n",
    "y_coo = np.random.uniform(0, 1, total_grains)\n",
    "z = 0.05\n",
    "seed_weight = np.random.uniform(0.10, 0.30, total_grains) \n",
    "for i in range(total_grains):\n",
    "    #fh.write(\"%d\" % (i+1))\n",
    "    fh.write(\"%f\" % (x_coo_set[i]))\n",
    "    fh.write(\" %f\" % (y_coo[i]))\n",
    "    fh.write(\" %f\\n\" % (z))\n",
    "for i in range(total_grains):\n",
    "    fh1.write(\"%f\\n\" % (z))\n",
    "    #fh1.write(\"%f\\n\" % (seed_weight[i]))\n",
    "\n",
    "fh.close()\n",
    "fh1.close()\n",
    "\n",
    "print(area_ratios)"
   ]
  },
  {
   "cell_type": "code",
   "execution_count": null,
   "id": "249c64d6-aa25-4f70-91cf-9a644211da59",
   "metadata": {},
   "outputs": [],
   "source": []
  }
 ],
 "metadata": {
  "kernelspec": {
   "display_name": "Python 3 (ipykernel)",
   "language": "python",
   "name": "python3"
  },
  "language_info": {
   "codemirror_mode": {
    "name": "ipython",
    "version": 3
   },
   "file_extension": ".py",
   "mimetype": "text/x-python",
   "name": "python",
   "nbconvert_exporter": "python",
   "pygments_lexer": "ipython3",
   "version": "3.9.7"
  }
 },
 "nbformat": 4,
 "nbformat_minor": 5
}
